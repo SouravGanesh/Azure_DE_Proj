{
 "cells": [
  {
   "cell_type": "code",
   "execution_count": 0,
   "metadata": {
    "application/vnd.databricks.v1+cell": {
     "cellMetadata": {},
     "inputWidgets": {},
     "nuid": "2a3b2fa5-d946-4389-96b5-33dea5e45b30",
     "showTitle": false,
     "title": ""
    }
   },
   "outputs": [],
   "source": [
    "# Variables that reference containers paths\n",
    "bronze_folder_path = '/mnt/stacdataterraprojprod01/ctdatabronze'\n",
    "silver_folder_path = '/mnt/stacdataterraprojprod01/ctdatasilver'\n",
    "gold_folder_path = '/mnt/stacdataterraprojprod01/ctdatagold'"
   ]
  }
 ],
 "metadata": {
  "application/vnd.databricks.v1+notebook": {
   "dashboards": [],
   "language": "python",
   "notebookMetadata": {
    "pythonIndentUnit": 4
   },
   "notebookName": "configurations",
   "widgets": {}
  }
 },
 "nbformat": 4,
 "nbformat_minor": 0
}
