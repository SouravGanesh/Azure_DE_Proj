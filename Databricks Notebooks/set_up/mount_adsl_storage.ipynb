{
 "cells": [
  {
   "cell_type": "markdown",
   "metadata": {
    "application/vnd.databricks.v1+cell": {
     "cellMetadata": {},
     "inputWidgets": {},
     "nuid": "33358959-1103-447b-8df3-bb22a4c1bca6",
     "showTitle": false,
     "title": ""
    }
   },
   "source": [
    "###mount alds storage"
   ]
  },
  {
   "cell_type": "code",
   "execution_count": 0,
   "metadata": {
    "application/vnd.databricks.v1+cell": {
     "cellMetadata": {
      "byteLimit": 2048000,
      "rowLimit": 10000
     },
     "inputWidgets": {},
     "nuid": "20a4e76c-8a1a-46de-b659-26681ad65232",
     "showTitle": false,
     "title": ""
    }
   },
   "outputs": [
    {
     "output_type": "execute_result",
     "data": {
      "text/plain": [
       "[SecretScope(name='azkvdbwscope')]"
      ]
     },
     "execution_count": 5,
     "metadata": {},
     "output_type": "execute_result"
    }
   ],
   "source": [
    "dbutils.secrets.listScopes()"
   ]
  },
  {
   "cell_type": "code",
   "execution_count": 0,
   "metadata": {
    "application/vnd.databricks.v1+cell": {
     "cellMetadata": {
      "byteLimit": 2048000,
      "rowLimit": 10000
     },
     "inputWidgets": {},
     "nuid": "a95dc363-f9c8-42dc-b6d3-dd87c8af0599",
     "showTitle": false,
     "title": ""
    }
   },
   "outputs": [
    {
     "output_type": "execute_result",
     "data": {
      "text/plain": [
       "[SecretMetadata(key='databricksappclientid'),\n",
       " SecretMetadata(key='databricksappsecret'),\n",
       " SecretMetadata(key='tenantid')]"
      ]
     },
     "execution_count": 6,
     "metadata": {},
     "output_type": "execute_result"
    }
   ],
   "source": [
    "# We set the values of our databricks scope name and azure storage account.\n",
    "databricks_scope_name = \"azkvdbwscope\"\n",
    "storage_account_name = \"stacdataterraprojprod01\"\n",
    "\n",
    "\n",
    "# We use dbutils to list our secrets name because we need to send them as parameter to the \n",
    "# dbutils.secrets.get()\n",
    "dbutils.secrets.list(databricks_scope_name)"
   ]
  },
  {
   "cell_type": "code",
   "execution_count": 0,
   "metadata": {
    "application/vnd.databricks.v1+cell": {
     "cellMetadata": {
      "byteLimit": 2048000,
      "rowLimit": 10000
     },
     "inputWidgets": {},
     "nuid": "a77fd398-dc50-42c1-a89c-383082c6e2ce",
     "showTitle": false,
     "title": ""
    }
   },
   "outputs": [],
   "source": [
    "# We assign the values of our secrets to variables.\n",
    "client_id     = dbutils.secrets.get(databricks_scope_name, \"databricksappclientid\")\n",
    "tenant_id     = dbutils.secrets.get(databricks_scope_name, \"tenantid\")\n",
    "client_secret = dbutils.secrets.get(databricks_scope_name, \"databricksappsecret\")"
   ]
  },
  {
   "cell_type": "code",
   "execution_count": 0,
   "metadata": {
    "application/vnd.databricks.v1+cell": {
     "cellMetadata": {
      "byteLimit": 2048000,
      "rowLimit": 10000
     },
     "inputWidgets": {},
     "nuid": "d9347069-2fa5-4da4-98fc-4b300d394b67",
     "showTitle": false,
     "title": ""
    }
   },
   "outputs": [],
   "source": [
    "# To access to our data in Azure Storage securely we are going to use OAuth 2.0 with Azure Active Directory\n",
    "# We need to set the following configuration\n",
    "configs = {\n",
    "    \"fs.azure.account.auth.type\": \"OAuth\",\n",
    "    \"fs.azure.account.oauth.provider.type\": \"org.apache.hadoop.fs.azurebfs.oauth2.ClientCredsTokenProvider\",\n",
    "    \"fs.azure.account.oauth2.client.id\": f\"{client_id}\",\n",
    "    \"fs.azure.account.oauth2.client.secret\": f\"{client_secret}\",\n",
    "    \"fs.azure.account.oauth2.client.endpoint\": f\"https://login.microsoftonline.com/{tenant_id}/oauth2/token\"\n",
    "}\n"
   ]
  },
  {
   "cell_type": "code",
   "execution_count": 0,
   "metadata": {
    "application/vnd.databricks.v1+cell": {
     "cellMetadata": {
      "byteLimit": 2048000,
      "rowLimit": 10000
     },
     "inputWidgets": {},
     "nuid": "e385aeca-dc0d-4165-b77a-e7a38c12c794",
     "showTitle": false,
     "title": ""
    }
   },
   "outputs": [
    {
     "output_type": "stream",
     "name": "stdout",
     "output_type": "stream",
     "text": [
      "Directory /mnt/stacdataterraprojprod01/ctdatabronze is already mounted.\nDirectory /mnt/stacdataterraprojprod01/ctdatasilver is already mounted.\nDirectory /mnt/stacdataterraprojprod01/ctdatagold is already mounted.\n"
     ]
    }
   ],
   "source": [
    "def mount_adls(container_name):\n",
    "    mount_point = f\"/mnt/{storage_account_name}/{container_name}\"\n",
    "    # Check if directory is already mounted\n",
    "    if any(mount.mountPoint == mount_point for mount in dbutils.fs.mounts()):\n",
    "        print(f\"Directory {mount_point} is already mounted.\")\n",
    "    else:\n",
    "        dbutils.fs.mount(\n",
    "            source=f\"abfss://{container_name}@{storage_account_name}.dfs.core.windows.net/\",\n",
    "            mount_point=mount_point,\n",
    "            extra_configs=configs\n",
    "        )\n",
    "\n",
    "# Mount Bronze Container\n",
    "mount_adls(\"ctdatabronze\")\n",
    "\n",
    "# Mount Silver Container\n",
    "mount_adls(\"ctdatasilver\")\n",
    "\n",
    "# Mount Gold Container\n",
    "mount_adls(\"ctdatagold\")"
   ]
  },
  {
   "cell_type": "code",
   "execution_count": 0,
   "metadata": {
    "application/vnd.databricks.v1+cell": {
     "cellMetadata": {
      "byteLimit": 2048000,
      "rowLimit": 10000
     },
     "inputWidgets": {},
     "nuid": "47993645-805d-4859-a3b8-5926b8765e07",
     "showTitle": false,
     "title": ""
    }
   },
   "outputs": [
    {
     "output_type": "execute_result",
     "data": {
      "text/plain": [
       "[MountInfo(mountPoint='/mnt/stacdataterraprojprod01/ctdatagold', source='abfss://ctdatagold@stacdataterraprojprod01.dfs.core.windows.net/', encryptionType=''),\n",
       " MountInfo(mountPoint='/databricks-datasets', source='databricks-datasets', encryptionType=''),\n",
       " MountInfo(mountPoint='/mnt/stacdataterraprojprod01/ctdatabronze', source='abfss://ctdatabronze@stacdataterraprojprod01.dfs.core.windows.net/', encryptionType=''),\n",
       " MountInfo(mountPoint='/Volumes', source='UnityCatalogVolumes', encryptionType=''),\n",
       " MountInfo(mountPoint='/databricks/mlflow-tracking', source='databricks/mlflow-tracking', encryptionType=''),\n",
       " MountInfo(mountPoint='/databricks-results', source='databricks-results', encryptionType=''),\n",
       " MountInfo(mountPoint='/databricks/mlflow-registry', source='databricks/mlflow-registry', encryptionType=''),\n",
       " MountInfo(mountPoint='/Volume', source='DbfsReserved', encryptionType=''),\n",
       " MountInfo(mountPoint='/volumes', source='DbfsReserved', encryptionType=''),\n",
       " MountInfo(mountPoint='/mnt/stacdataterraprojprod01/ctdatasilver', source='abfss://ctdatasilver@stacdataterraprojprod01.dfs.core.windows.net/', encryptionType=''),\n",
       " MountInfo(mountPoint='/', source='DatabricksRoot', encryptionType=''),\n",
       " MountInfo(mountPoint='/volume', source='DbfsReserved', encryptionType='')]"
      ]
     },
     "execution_count": 11,
     "metadata": {},
     "output_type": "execute_result"
    }
   ],
   "source": [
    "# List all mounts on databricks\n",
    "# You must see your bronze, silver and gold contianers and other ones that are by default from databricks.\n",
    "dbutils.fs.mounts()"
   ]
  },
  {
   "cell_type": "markdown",
   "metadata": {
    "application/vnd.databricks.v1+cell": {
     "cellMetadata": {},
     "inputWidgets": {},
     "nuid": "0eb4443d-8b70-42fb-b9b4-2a35eaacf999",
     "showTitle": false,
     "title": ""
    }
   },
   "source": [
    "read file from mount"
   ]
  },
  {
   "cell_type": "code",
   "execution_count": 0,
   "metadata": {
    "application/vnd.databricks.v1+cell": {
     "cellMetadata": {
      "byteLimit": 2048000,
      "rowLimit": 10000
     },
     "inputWidgets": {},
     "nuid": "a1394663-be27-4323-8b1c-9a55e8f80488",
     "showTitle": false,
     "title": ""
    }
   },
   "outputs": [
    {
     "output_type": "stream",
     "name": "stdout",
     "output_type": "stream",
     "text": [
      "+----------+\n|     value|\n+----------+\n|UkWgAlVaqF|\n+----------+\n\n"
     ]
    }
   ],
   "source": [
    "df = spark.read.text('/mnt/stacdataterraprojprod01/ctdatabronze/ircc.txt')\n",
    "df.show()"
   ]
  }
 ],
 "metadata": {
  "application/vnd.databricks.v1+notebook": {
   "dashboards": [],
   "language": "python",
   "notebookMetadata": {
    "mostRecentlyExecutedCommandWithImplicitDF": {
     "commandId": 605742747547345,
     "dataframes": [
      "_sqldf"
     ]
    },
    "pythonIndentUnit": 4
   },
   "notebookName": "mount_adsl_storage",
   "widgets": {}
  }
 },
 "nbformat": 4,
 "nbformat_minor": 0
}
